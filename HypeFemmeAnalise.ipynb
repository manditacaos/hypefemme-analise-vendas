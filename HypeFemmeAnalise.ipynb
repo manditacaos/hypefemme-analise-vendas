{
 "cells": [
  {
   "cell_type": "markdown",
   "id": "c205d2a2",
   "metadata": {},
   "source": [
    "# 🧠 Análise de Vendas – Hype Femme"
   ]
  },
  {
   "cell_type": "markdown",
   "id": "12dbadbf",
   "metadata": {},
   "source": [
    "## 1. 📌 Introdução\n",
    "\n",
    "A Hype Femme é uma marca fictícia de streetwear feminino, criada para este projeto com o objetivo de simular uma operação de e-commerce moderna e conectada às tendências do mercado. A proposta da marca é oferecer roupas com estilo urbano, atendendo ao público jovem que busca autenticidade e representatividade nas peças que usa.\n",
    "\n",
    "Este projeto de análise tem como objetivo explorar os dados de vendas da loja durante o ano de 2024, aplicando técnicas de análise de dados com Python e construção de visualizações estratégicas no Power BI. As perguntas norteadoras da análise incluem:\n",
    "\n",
    "- Quais produtos foram mais vendidos ao longo do ano?\n",
    "- Qual canal de venda teve o melhor desempenho financeiro?\n",
    "- Como o ticket médio se comportou?\n",
    "- Existem sazonalidades ou padrões de comportamento de compra?\n",
    "\n",
    "Ao final, espera-se extrair insights que apoiem decisões estratégicas para crescimento da marca, reposição de estoque e definição de canais prioritários.\n"
   ]
  },
  {
   "cell_type": "markdown",
   "id": "d4eacb44",
   "metadata": {},
   "source": [
    "## 2. 📚 Importação de bibliotecas"
   ]
  },
  {
   "cell_type": "code",
   "execution_count": 4,
   "id": "95a125cc",
   "metadata": {},
   "outputs": [],
   "source": [
    "import pandas as pd\n",
    "import numpy as np\n",
    "import matplotlib.pyplot as plt\n",
    "import seaborn as sns\n",
    "\n",
    "# Configuração de visualização\n",
    "sns.set(style=\"whitegrid\")\n",
    "plt.rcParams['figure.figsize'] = (10, 5)"
   ]
  },
  {
   "cell_type": "markdown",
   "id": "71e85e2b",
   "metadata": {},
   "source": [
    "## 3. 📥 Carregamento dos dados"
   ]
  },
  {
   "cell_type": "code",
   "execution_count": 5,
   "id": "24a48a3b",
   "metadata": {},
   "outputs": [],
   "source": [
    "# Carregando o arquivo CSV\n",
    "df = pd.read_csv(\"vendas_hypefemme.csv\")"
   ]
  },
  {
   "cell_type": "markdown",
   "id": "1b4703e8",
   "metadata": {},
   "source": [
    "## 4. 🔎  Exploração inicial dos dados"
   ]
  },
  {
   "cell_type": "code",
   "execution_count": 6,
   "id": "364950d3",
   "metadata": {},
   "outputs": [
    {
     "data": {
      "text/html": [
       "<div>\n",
       "<style scoped>\n",
       "    .dataframe tbody tr th:only-of-type {\n",
       "        vertical-align: middle;\n",
       "    }\n",
       "\n",
       "    .dataframe tbody tr th {\n",
       "        vertical-align: top;\n",
       "    }\n",
       "\n",
       "    .dataframe thead th {\n",
       "        text-align: right;\n",
       "    }\n",
       "</style>\n",
       "<table border=\"1\" class=\"dataframe\">\n",
       "  <thead>\n",
       "    <tr style=\"text-align: right;\">\n",
       "      <th></th>\n",
       "      <th>id_venda</th>\n",
       "      <th>data_venda</th>\n",
       "      <th>produto</th>\n",
       "      <th>categoria</th>\n",
       "      <th>preco_unitario</th>\n",
       "      <th>quantidade</th>\n",
       "      <th>canal_venda</th>\n",
       "      <th>custo_unitario</th>\n",
       "      <th>cliente_id</th>\n",
       "      <th>estado</th>\n",
       "    </tr>\n",
       "  </thead>\n",
       "  <tbody>\n",
       "    <tr>\n",
       "      <th>0</th>\n",
       "      <td>1</td>\n",
       "      <td>2024-11-23</td>\n",
       "      <td>Cropped Athena</td>\n",
       "      <td>Cropped Oversized</td>\n",
       "      <td>109.9</td>\n",
       "      <td>1</td>\n",
       "      <td>Shopee</td>\n",
       "      <td>48.0</td>\n",
       "      <td>CL5012</td>\n",
       "      <td>RS</td>\n",
       "    </tr>\n",
       "    <tr>\n",
       "      <th>1</th>\n",
       "      <td>2</td>\n",
       "      <td>2024-03-12</td>\n",
       "      <td>Óculos Y2K Crystal</td>\n",
       "      <td>Óculos de Sol Y2K</td>\n",
       "      <td>99.9</td>\n",
       "      <td>1</td>\n",
       "      <td>Shopee</td>\n",
       "      <td>40.0</td>\n",
       "      <td>CL9935</td>\n",
       "      <td>RJ</td>\n",
       "    </tr>\n",
       "    <tr>\n",
       "      <th>2</th>\n",
       "      <td>3</td>\n",
       "      <td>2024-10-29</td>\n",
       "      <td>Calça Cargo Bold</td>\n",
       "      <td>Calça Cargo</td>\n",
       "      <td>179.9</td>\n",
       "      <td>1</td>\n",
       "      <td>Site</td>\n",
       "      <td>72.0</td>\n",
       "      <td>CL4582</td>\n",
       "      <td>RS</td>\n",
       "    </tr>\n",
       "    <tr>\n",
       "      <th>3</th>\n",
       "      <td>4</td>\n",
       "      <td>2024-09-15</td>\n",
       "      <td>Boné Trucker Onyx</td>\n",
       "      <td>Boné Trucker</td>\n",
       "      <td>79.9</td>\n",
       "      <td>1</td>\n",
       "      <td>Instagram</td>\n",
       "      <td>28.0</td>\n",
       "      <td>CL9928</td>\n",
       "      <td>SC</td>\n",
       "    </tr>\n",
       "    <tr>\n",
       "      <th>4</th>\n",
       "      <td>5</td>\n",
       "      <td>2024-04-22</td>\n",
       "      <td>Calça Cargo Bold</td>\n",
       "      <td>Calça Cargo</td>\n",
       "      <td>179.9</td>\n",
       "      <td>3</td>\n",
       "      <td>Site</td>\n",
       "      <td>72.0</td>\n",
       "      <td>CL1106</td>\n",
       "      <td>MG</td>\n",
       "    </tr>\n",
       "  </tbody>\n",
       "</table>\n",
       "</div>"
      ],
      "text/plain": [
       "   id_venda  data_venda             produto          categoria  \\\n",
       "0         1  2024-11-23      Cropped Athena  Cropped Oversized   \n",
       "1         2  2024-03-12  Óculos Y2K Crystal  Óculos de Sol Y2K   \n",
       "2         3  2024-10-29    Calça Cargo Bold        Calça Cargo   \n",
       "3         4  2024-09-15   Boné Trucker Onyx       Boné Trucker   \n",
       "4         5  2024-04-22    Calça Cargo Bold        Calça Cargo   \n",
       "\n",
       "   preco_unitario  quantidade canal_venda  custo_unitario cliente_id estado  \n",
       "0           109.9           1      Shopee            48.0     CL5012     RS  \n",
       "1            99.9           1      Shopee            40.0     CL9935     RJ  \n",
       "2           179.9           1        Site            72.0     CL4582     RS  \n",
       "3            79.9           1   Instagram            28.0     CL9928     SC  \n",
       "4           179.9           3        Site            72.0     CL1106     MG  "
      ]
     },
     "execution_count": 6,
     "metadata": {},
     "output_type": "execute_result"
    }
   ],
   "source": [
    "df.head()"
   ]
  },
  {
   "cell_type": "code",
   "execution_count": 7,
   "id": "4821dd55",
   "metadata": {
    "scrolled": true
   },
   "outputs": [
    {
     "name": "stdout",
     "output_type": "stream",
     "text": [
      "<class 'pandas.core.frame.DataFrame'>\n",
      "RangeIndex: 300 entries, 0 to 299\n",
      "Data columns (total 10 columns):\n",
      " #   Column          Non-Null Count  Dtype  \n",
      "---  ------          --------------  -----  \n",
      " 0   id_venda        300 non-null    int64  \n",
      " 1   data_venda      300 non-null    object \n",
      " 2   produto         300 non-null    object \n",
      " 3   categoria       300 non-null    object \n",
      " 4   preco_unitario  300 non-null    float64\n",
      " 5   quantidade      300 non-null    int64  \n",
      " 6   canal_venda     300 non-null    object \n",
      " 7   custo_unitario  300 non-null    float64\n",
      " 8   cliente_id      300 non-null    object \n",
      " 9   estado          300 non-null    object \n",
      "dtypes: float64(2), int64(2), object(6)\n",
      "memory usage: 23.6+ KB\n"
     ]
    }
   ],
   "source": [
    "# Informações gerais\n",
    "df.info()"
   ]
  },
  {
   "cell_type": "code",
   "execution_count": 8,
   "id": "a9cfdf6d",
   "metadata": {},
   "outputs": [
    {
     "data": {
      "text/plain": [
       "id_venda          0\n",
       "data_venda        0\n",
       "produto           0\n",
       "categoria         0\n",
       "preco_unitario    0\n",
       "quantidade        0\n",
       "canal_venda       0\n",
       "custo_unitario    0\n",
       "cliente_id        0\n",
       "estado            0\n",
       "dtype: int64"
      ]
     },
     "execution_count": 8,
     "metadata": {},
     "output_type": "execute_result"
    }
   ],
   "source": [
    "# Verificando valores nulos\n",
    "df.isnull().sum()"
   ]
  },
  {
   "cell_type": "code",
   "execution_count": 9,
   "id": "b644564a",
   "metadata": {},
   "outputs": [
    {
     "data": {
      "text/html": [
       "<div>\n",
       "<style scoped>\n",
       "    .dataframe tbody tr th:only-of-type {\n",
       "        vertical-align: middle;\n",
       "    }\n",
       "\n",
       "    .dataframe tbody tr th {\n",
       "        vertical-align: top;\n",
       "    }\n",
       "\n",
       "    .dataframe thead th {\n",
       "        text-align: right;\n",
       "    }\n",
       "</style>\n",
       "<table border=\"1\" class=\"dataframe\">\n",
       "  <thead>\n",
       "    <tr style=\"text-align: right;\">\n",
       "      <th></th>\n",
       "      <th>id_venda</th>\n",
       "      <th>preco_unitario</th>\n",
       "      <th>quantidade</th>\n",
       "      <th>custo_unitario</th>\n",
       "    </tr>\n",
       "  </thead>\n",
       "  <tbody>\n",
       "    <tr>\n",
       "      <th>count</th>\n",
       "      <td>300.000000</td>\n",
       "      <td>300.000000</td>\n",
       "      <td>300.000000</td>\n",
       "      <td>300.000000</td>\n",
       "    </tr>\n",
       "    <tr>\n",
       "      <th>mean</th>\n",
       "      <td>150.500000</td>\n",
       "      <td>127.200000</td>\n",
       "      <td>1.993333</td>\n",
       "      <td>51.553333</td>\n",
       "    </tr>\n",
       "    <tr>\n",
       "      <th>std</th>\n",
       "      <td>86.746758</td>\n",
       "      <td>49.765772</td>\n",
       "      <td>0.825972</td>\n",
       "      <td>22.347076</td>\n",
       "    </tr>\n",
       "    <tr>\n",
       "      <th>min</th>\n",
       "      <td>1.000000</td>\n",
       "      <td>79.900000</td>\n",
       "      <td>1.000000</td>\n",
       "      <td>28.000000</td>\n",
       "    </tr>\n",
       "    <tr>\n",
       "      <th>25%</th>\n",
       "      <td>75.750000</td>\n",
       "      <td>89.900000</td>\n",
       "      <td>1.000000</td>\n",
       "      <td>35.000000</td>\n",
       "    </tr>\n",
       "    <tr>\n",
       "      <th>50%</th>\n",
       "      <td>150.500000</td>\n",
       "      <td>99.900000</td>\n",
       "      <td>2.000000</td>\n",
       "      <td>40.000000</td>\n",
       "    </tr>\n",
       "    <tr>\n",
       "      <th>75%</th>\n",
       "      <td>225.250000</td>\n",
       "      <td>179.900000</td>\n",
       "      <td>3.000000</td>\n",
       "      <td>72.000000</td>\n",
       "    </tr>\n",
       "    <tr>\n",
       "      <th>max</th>\n",
       "      <td>300.000000</td>\n",
       "      <td>219.900000</td>\n",
       "      <td>3.000000</td>\n",
       "      <td>95.000000</td>\n",
       "    </tr>\n",
       "  </tbody>\n",
       "</table>\n",
       "</div>"
      ],
      "text/plain": [
       "         id_venda  preco_unitario  quantidade  custo_unitario\n",
       "count  300.000000      300.000000  300.000000      300.000000\n",
       "mean   150.500000      127.200000    1.993333       51.553333\n",
       "std     86.746758       49.765772    0.825972       22.347076\n",
       "min      1.000000       79.900000    1.000000       28.000000\n",
       "25%     75.750000       89.900000    1.000000       35.000000\n",
       "50%    150.500000       99.900000    2.000000       40.000000\n",
       "75%    225.250000      179.900000    3.000000       72.000000\n",
       "max    300.000000      219.900000    3.000000       95.000000"
      ]
     },
     "execution_count": 9,
     "metadata": {},
     "output_type": "execute_result"
    }
   ],
   "source": [
    "# Estatísticas básicas\n",
    "df.describe()"
   ]
  },
  {
   "cell_type": "markdown",
   "id": "68e23ba3",
   "metadata": {},
   "source": [
    "## 5. 🪄 Tratamento dos dados"
   ]
  },
  {
   "cell_type": "code",
   "execution_count": 10,
   "id": "a8c60117",
   "metadata": {},
   "outputs": [],
   "source": [
    "# Convertendo a coluna de data para formato datetime\n",
    "df['data_venda'] = pd.to_datetime(df['data_venda'])\n",
    "\n",
    "# Criando novas colunas úteis\n",
    "df['mes'] = df['data_venda'].dt.month\n",
    "df['receita'] = df['preco_unitario'] * df['quantidade']\n",
    "df['custo_total'] = df['custo_unitario'] * df['quantidade']\n",
    "df['lucro'] = df['receita'] - df['custo_total']"
   ]
  },
  {
   "cell_type": "code",
   "execution_count": 11,
   "id": "479f2f2e",
   "metadata": {
    "scrolled": true
   },
   "outputs": [
    {
     "data": {
      "text/html": [
       "<div>\n",
       "<style scoped>\n",
       "    .dataframe tbody tr th:only-of-type {\n",
       "        vertical-align: middle;\n",
       "    }\n",
       "\n",
       "    .dataframe tbody tr th {\n",
       "        vertical-align: top;\n",
       "    }\n",
       "\n",
       "    .dataframe thead th {\n",
       "        text-align: right;\n",
       "    }\n",
       "</style>\n",
       "<table border=\"1\" class=\"dataframe\">\n",
       "  <thead>\n",
       "    <tr style=\"text-align: right;\">\n",
       "      <th></th>\n",
       "      <th>id_venda</th>\n",
       "      <th>data_venda</th>\n",
       "      <th>produto</th>\n",
       "      <th>categoria</th>\n",
       "      <th>preco_unitario</th>\n",
       "      <th>quantidade</th>\n",
       "      <th>canal_venda</th>\n",
       "      <th>custo_unitario</th>\n",
       "      <th>cliente_id</th>\n",
       "      <th>estado</th>\n",
       "      <th>mes</th>\n",
       "      <th>receita</th>\n",
       "      <th>custo_total</th>\n",
       "      <th>lucro</th>\n",
       "    </tr>\n",
       "  </thead>\n",
       "  <tbody>\n",
       "    <tr>\n",
       "      <th>0</th>\n",
       "      <td>1</td>\n",
       "      <td>2024-11-23</td>\n",
       "      <td>Cropped Athena</td>\n",
       "      <td>Cropped Oversized</td>\n",
       "      <td>109.9</td>\n",
       "      <td>1</td>\n",
       "      <td>Shopee</td>\n",
       "      <td>48.0</td>\n",
       "      <td>CL5012</td>\n",
       "      <td>RS</td>\n",
       "      <td>11</td>\n",
       "      <td>109.9</td>\n",
       "      <td>48.0</td>\n",
       "      <td>61.9</td>\n",
       "    </tr>\n",
       "    <tr>\n",
       "      <th>1</th>\n",
       "      <td>2</td>\n",
       "      <td>2024-03-12</td>\n",
       "      <td>Óculos Y2K Crystal</td>\n",
       "      <td>Óculos de Sol Y2K</td>\n",
       "      <td>99.9</td>\n",
       "      <td>1</td>\n",
       "      <td>Shopee</td>\n",
       "      <td>40.0</td>\n",
       "      <td>CL9935</td>\n",
       "      <td>RJ</td>\n",
       "      <td>3</td>\n",
       "      <td>99.9</td>\n",
       "      <td>40.0</td>\n",
       "      <td>59.9</td>\n",
       "    </tr>\n",
       "    <tr>\n",
       "      <th>2</th>\n",
       "      <td>3</td>\n",
       "      <td>2024-10-29</td>\n",
       "      <td>Calça Cargo Bold</td>\n",
       "      <td>Calça Cargo</td>\n",
       "      <td>179.9</td>\n",
       "      <td>1</td>\n",
       "      <td>Site</td>\n",
       "      <td>72.0</td>\n",
       "      <td>CL4582</td>\n",
       "      <td>RS</td>\n",
       "      <td>10</td>\n",
       "      <td>179.9</td>\n",
       "      <td>72.0</td>\n",
       "      <td>107.9</td>\n",
       "    </tr>\n",
       "    <tr>\n",
       "      <th>3</th>\n",
       "      <td>4</td>\n",
       "      <td>2024-09-15</td>\n",
       "      <td>Boné Trucker Onyx</td>\n",
       "      <td>Boné Trucker</td>\n",
       "      <td>79.9</td>\n",
       "      <td>1</td>\n",
       "      <td>Instagram</td>\n",
       "      <td>28.0</td>\n",
       "      <td>CL9928</td>\n",
       "      <td>SC</td>\n",
       "      <td>9</td>\n",
       "      <td>79.9</td>\n",
       "      <td>28.0</td>\n",
       "      <td>51.9</td>\n",
       "    </tr>\n",
       "    <tr>\n",
       "      <th>4</th>\n",
       "      <td>5</td>\n",
       "      <td>2024-04-22</td>\n",
       "      <td>Calça Cargo Bold</td>\n",
       "      <td>Calça Cargo</td>\n",
       "      <td>179.9</td>\n",
       "      <td>3</td>\n",
       "      <td>Site</td>\n",
       "      <td>72.0</td>\n",
       "      <td>CL1106</td>\n",
       "      <td>MG</td>\n",
       "      <td>4</td>\n",
       "      <td>539.7</td>\n",
       "      <td>216.0</td>\n",
       "      <td>323.7</td>\n",
       "    </tr>\n",
       "  </tbody>\n",
       "</table>\n",
       "</div>"
      ],
      "text/plain": [
       "   id_venda data_venda             produto          categoria  preco_unitario  \\\n",
       "0         1 2024-11-23      Cropped Athena  Cropped Oversized           109.9   \n",
       "1         2 2024-03-12  Óculos Y2K Crystal  Óculos de Sol Y2K            99.9   \n",
       "2         3 2024-10-29    Calça Cargo Bold        Calça Cargo           179.9   \n",
       "3         4 2024-09-15   Boné Trucker Onyx       Boné Trucker            79.9   \n",
       "4         5 2024-04-22    Calça Cargo Bold        Calça Cargo           179.9   \n",
       "\n",
       "   quantidade canal_venda  custo_unitario cliente_id estado  mes  receita  \\\n",
       "0           1      Shopee            48.0     CL5012     RS   11    109.9   \n",
       "1           1      Shopee            40.0     CL9935     RJ    3     99.9   \n",
       "2           1        Site            72.0     CL4582     RS   10    179.9   \n",
       "3           1   Instagram            28.0     CL9928     SC    9     79.9   \n",
       "4           3        Site            72.0     CL1106     MG    4    539.7   \n",
       "\n",
       "   custo_total  lucro  \n",
       "0         48.0   61.9  \n",
       "1         40.0   59.9  \n",
       "2         72.0  107.9  \n",
       "3         28.0   51.9  \n",
       "4        216.0  323.7  "
      ]
     },
     "execution_count": 11,
     "metadata": {},
     "output_type": "execute_result"
    }
   ],
   "source": [
    "df.head()"
   ]
  },
  {
   "cell_type": "markdown",
   "id": "7144d1c4",
   "metadata": {},
   "source": [
    "## 6. 📈 Análises e visualizações\n",
    "- Receita por mês\n",
    "- Lucro por canal\n",
    "- Produto mais vendido\n",
    "- Ticket médio, etc."
   ]
  },
  {
   "cell_type": "markdown",
   "id": "d7cc2f8a",
   "metadata": {},
   "source": [
    "### 🎯 Receita por Mês\n",
    "Vamos analisar como a receita variou ao longo de 2024."
   ]
  },
  {
   "cell_type": "code",
   "execution_count": 12,
   "id": "e4f2cf5e",
   "metadata": {},
   "outputs": [
    {
     "data": {
      "image/png": "[encoded data removed]",
      "text/plain": [
       "<Figure size 1000x500 with 1 Axes>"
      ]
     },
     "metadata": {},
     "output_type": "display_data"
    }
   ],
   "source": [
    "df.groupby('mes')['receita'].sum().plot(kind='bar', color='#FF7F50')\n",
    "plt.title('Receita por Mês')\n",
    "plt.xlabel('Mês')\n",
    "plt.ylabel('Receita Total')\n",
    "plt.xticks(rotation=0)\n",
    "plt.show()"
   ]
  },
  {
   "cell_type": "markdown",
   "id": "2bf44eb7",
   "metadata": {},
   "source": [
    "### 📊 Distribuição de Lucro por Canal de Venda\n",
    "\n",
    "vamos analisar qual canal de venda gerou mais lucro para a Hype Femme ao longo de 2024.\n",
    "\n",
    "**Canais considerados:**\n",
    "- Site\n",
    "- Instagram\n",
    "- Shopee\n",
    "- Mercado Livre\n"
   ]
  },
  {
   "cell_type": "code",
   "execution_count": 13,
   "id": "b335ba09",
   "metadata": {},
   "outputs": [
    {
     "data": {
      "text/plain": [
       "Text(0, 0.5, ' ')"
      ]
     },
     "execution_count": 13,
     "metadata": {},
     "output_type": "execute_result"
    },
    {
     "data": {
      "image/png": "[encoded data removed]",
      "text/plain": [
       "<Figure size 1000x500 with 1 Axes>"
      ]
     },
     "metadata": {},
     "output_type": "display_data"
    }
   ],
   "source": [
    " 1 #📌 Lucro por canal\n",
    "df.groupby('canal_venda')['lucro'].sum().plot(kind='pie', autopct='%1.1f%%', startangle=90)\n",
    "plt.title('Distribuição de Lucro por Canal')\n",
    "plt.xlabel('')\n",
    "plt.ylabel(' ')"
   ]
  },
  {
   "cell_type": "markdown",
   "id": "f0172b1c",
   "metadata": {},
   "source": [
    "### 🛍️ Top Produtos por Quantidade Vendida\n",
    "\n",
    "Agora vamos visualizar quais foram os produtos mais vendidos em termos de **quantidade**. \n",
    "\n",
    "**Métricas observadas:**\n",
    "- Produto\n",
    "- Total de unidades vendidas no ano\n"
   ]
  },
  {
   "cell_type": "code",
   "execution_count": 14,
   "id": "2718f875",
   "metadata": {},
   "outputs": [
    {
     "data": {
      "image/png": "[encoded data removed]",
      "text/plain": [
       "<Figure size 1000x500 with 1 Axes>"
      ]
     },
     "metadata": {},
     "output_type": "display_data"
    }
   ],
   "source": [
    "df.groupby('produto')['quantidade'].sum().sort_values().plot(kind='barh', color='#8A2BE2')\n",
    "plt.title('Top Produtos por Quantidade Vendida')\n",
    "plt.xlabel('Quantidade')\n",
    "plt.ylabel('Produto')\n",
    "plt.show()"
   ]
  },
  {
   "cell_type": "markdown",
   "id": "ce7705c0",
   "metadata": {},
   "source": [
    "## 💳 Análise do Ticket Médio\n",
    "\n",
    "O **ticket médio** representa o valor médio gasto por compra, ou seja, é a receita dividida pela quantidade de pedidos.\n"
   ]
  },
  {
   "cell_type": "code",
   "execution_count": 15,
   "id": "ecdb1483",
   "metadata": {
    "scrolled": false
   },
   "outputs": [
    {
     "name": "stdout",
     "output_type": "stream",
     "text": [
      "Ticket médio por item: R$ 125.02\n"
     ]
    }
   ],
   "source": [
    "#📌 Ticket médio\n",
    "ticket_medio = df['receita'].sum() / df['quantidade'].sum()\n",
    "print(f\"Ticket médio por item: R$ {ticket_medio:.2f}\")"
   ]
  },
  {
   "cell_type": "markdown",
   "id": "301c0c0d",
   "metadata": {},
   "source": [
    "\n",
    "## 7. 🧠 Insights Estratégicos\n",
    "\n",
    "- **O canal de vendas com maior lucro foi o Site.**  \n",
    "  (*Isso indica que campanhas próprias estão mais rentáveis do que marketplaces? Vale a pena aumentar o tráfego para o site?*)\n",
    "\n",
    "- **O produto mais vendido foi a Calça Cargo Bold.**  \n",
    "  (*Esse item tem apelo recorrente? É sazonal ou tendência? Deveria se tornar peça permanente no catálogo?*)\n",
    "\n",
    "- **O ticket médio está na casa de R$125,00.**  \n",
    "  (*Existe espaço para estratégias de upsell? Clientes costumam comprar mais de um item?*)\n",
    "\n",
    "- **Meses com maior volume de vendas: Fevereiro, Julho e Outubro.**  \n",
    "  (*Esses meses coincidem com campanhas sazonais? Deveria haver mais investimentos nessas épocas?*)"
   ]
  },
  {
   "cell_type": "markdown",
   "id": "8850d738",
   "metadata": {},
   "source": [
    "## 8. ✅ Conclusão\n",
    "\n",
    "Com base nos dados de 2024, a Hype Femme apresenta uma performance sólida em seu canal próprio (site), com destaque para peças-chave como a Calça Cargo e produtos com estética Y2K. O ticket médio indica que o público aceita preços intermediários, abrindo espaço para estratégias de kits, brindes por valor ou descontos progressivos.\n",
    "\n",
    "A sazonalidade nas vendas também sugere oportunidades de reforçar campanhas nos meses de maior volume, com foco em mídia paga, collabs ou lançamentos estratégicos."
   ]
  },
  {
   "cell_type": "code",
   "execution_count": null,
   "id": "7c898177",
   "metadata": {},
   "outputs": [],
   "source": []
  }
 ],
 "metadata": {
  "kernelspec": {
   "display_name": "Python 3 (ipykernel)",
   "language": "python",
   "name": "python3"
  },
  "language_info": {
   "codemirror_mode": {
    "name": "ipython",
    "version": 3
   },
   "file_extension": ".py",
   "mimetype": "text/x-python",
   "name": "python",
   "nbconvert_exporter": "python",
   "pygments_lexer": "ipython3",
   "version": "3.9.13"
  }
 },
 "nbformat": 4,
 "nbformat_minor": 5
}
